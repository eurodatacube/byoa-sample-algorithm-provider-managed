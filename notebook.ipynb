{
 "cells": [
  {
   "cell_type": "code",
   "execution_count": null,
   "metadata": {
    "tags": [
     "parameters"
    ]
   },
   "outputs": [],
   "source": [
    "# here you can place default parameters which will be overwritten by the \n",
    "# actual parameters in a new cell below\n",
    "spatial_res = 0.00018\n",
    "band_name = \"B04\""
   ]
  },
  {
   "cell_type": "code",
   "execution_count": null,
   "metadata": {},
   "outputs": [],
   "source": [
    "# Calculations can be done here or triggered by api call to an external service.\n",
    "# For algorithms with provider-managed data, you as algorithm author are responsible\n",
    "# for handling result storage and provide a link for users to access the result data.\n",
    "result_link = trigger_my_external_api(\n",
    "    spatial_res=spatial_res,\n",
    "    band_name=band_name,\n",
    ")"
   ]
  },
  {
   "cell_type": "code",
   "execution_count": null,
   "metadata": {},
   "outputs": [],
   "source": [
    "import scrapbook\n",
    "# Define a link where the user can access the result of the calculation\n",
    "# and optionally an informational message.\n",
    "scrapbook.glue(\n",
    "    \"\",\n",
    "    {\n",
    "        \"result-link\": result_link,\n",
    "        \"result-message\": \"Please view the result of the calculation here.\",\n",
    "    }\n",
    ")"
   ]
  }
 ],
 "metadata": {
  "celltoolbar": "Tags",
  "kernelspec": {
   "display_name": "Python 3",
   "language": "python",
   "name": "python3"
  },
  "language_info": {
   "codemirror_mode": {
    "name": "ipython",
    "version": 3
   },
   "file_extension": ".py",
   "mimetype": "text/x-python",
   "name": "python",
   "nbconvert_exporter": "python",
   "pygments_lexer": "ipython3",
   "version": "3.8.10"
  }
 },
 "nbformat": 4,
 "nbformat_minor": 4
}
